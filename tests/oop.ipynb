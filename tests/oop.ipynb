{
 "cells": [
  {
   "cell_type": "code",
   "execution_count": 1,
   "metadata": {},
   "outputs": [],
   "source": [
    "# Libraries for Scientific Computing\n",
    "import numpy as np\n",
    "import pyquaternion as pyQ\n",
    "\n",
    "# Libraries for graphics\n",
    "import matplotlib.pyplot as plt\n",
    "from mpl_toolkits.mplot3d.axes3d import Axes3D\n",
    "from matplotlib.animation import FuncAnimation\n",
    "from mpl_toolkits.mplot3d.art3d import juggle_axes\n",
    "\n",
    "import scipy.integrate"
   ]
  },
  {
   "cell_type": "code",
   "execution_count": 2,
   "metadata": {},
   "outputs": [],
   "source": [
    "class Body:\n",
    "    def __init__(self, m, r_0, body_lines):\n",
    "        self.masses = np.array(m)\n",
    "        self.r_0 = np.array(r_0)\n",
    "        self.n_masses = len(self.masses)\n",
    "        self.body_lines = body_lines\n",
    "    "
   ]
  },
  {
   "cell_type": "code",
   "execution_count": 14,
   "metadata": {},
   "outputs": [],
   "source": [
    "## Setting mass\n",
    "masses = [1,1,1,1,1,1,1,1,.5,.5]\n",
    "## Setting initial configuration\n",
    "r_0 = []\n",
    "r_0.append([1, 1, 0])\n",
    "r_0.append([1, -1, 0])\n",
    "r_0.append([-1, 1, 0])\n",
    "r_0.append([-1, -1, 0])\n",
    "r_0.append([1, 1, -1])\n",
    "r_0.append([1,-1,-1])\n",
    "r_0.append([-1,1,-1])\n",
    "r_0.append([-1, -1, -1])\n",
    "r_0.append([0, -.5, .5])\n",
    "r_0.append([0, .5, .5])\n",
    "## Setting body lines (used only in visualization)\n",
    "body_lines = [\n",
    "    ## top\n",
    "    (0, 1),\n",
    "    (0, 2),\n",
    "    (1, 3),\n",
    "    (3, 2),\n",
    "    ## bottom\n",
    "    (4, 5),\n",
    "    (4, 6),\n",
    "    (5, 7),\n",
    "    (7, 6),\n",
    "    ## vertical\n",
    "    (0, 4),\n",
    "    (1, 5),\n",
    "    (3, 7),\n",
    "    (2, 6),   \n",
    "    ## propeller\n",
    "    (8, 9)\n",
    "]\n",
    "\n",
    "cube = Body(masses, r_0, body_lines)"
   ]
  },
  {
   "cell_type": "code",
   "execution_count": 16,
   "metadata": {},
   "outputs": [
    {
     "data": {
      "text/plain": [
       "[(0, 1),\n",
       " (0, 2),\n",
       " (1, 3),\n",
       " (3, 2),\n",
       " (4, 5),\n",
       " (4, 6),\n",
       " (5, 7),\n",
       " (7, 6),\n",
       " (0, 4),\n",
       " (1, 5),\n",
       " (3, 7),\n",
       " (2, 6),\n",
       " (8, 9)]"
      ]
     },
     "execution_count": 16,
     "metadata": {},
     "output_type": "execute_result"
    }
   ],
   "source": [
    "cube.body_lines"
   ]
  },
  {
   "cell_type": "code",
   "execution_count": null,
   "metadata": {},
   "outputs": [],
   "source": []
  }
 ],
 "metadata": {
  "kernelspec": {
   "display_name": "Python 3",
   "language": "python",
   "name": "python3"
  },
  "language_info": {
   "codemirror_mode": {
    "name": "ipython",
    "version": 3
   },
   "file_extension": ".py",
   "mimetype": "text/x-python",
   "name": "python",
   "nbconvert_exporter": "python",
   "pygments_lexer": "ipython3",
   "version": "3.7.4"
  }
 },
 "nbformat": 4,
 "nbformat_minor": 2
}
