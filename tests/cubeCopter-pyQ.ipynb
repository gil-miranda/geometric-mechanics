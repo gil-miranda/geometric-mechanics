{
 "cells": [
  {
   "cell_type": "code",
   "execution_count": 1,
   "metadata": {
    "ExecuteTime": {
     "end_time": "2019-09-18T14:02:11.221952Z",
     "start_time": "2019-09-18T14:02:06.938209Z"
    }
   },
   "outputs": [],
   "source": [
    "# Libraries for Scientific Computing\n",
    "import numpy as np\n",
    "import pyquaternion as pyQ\n",
    "\n",
    "# Libraries for graphics\n",
    "import matplotlib.pyplot as plt\n",
    "from mpl_toolkits.mplot3d.axes3d import Axes3D\n",
    "from matplotlib.animation import FuncAnimation\n",
    "from mpl_toolkits.mplot3d.art3d import juggle_axes\n",
    "\n",
    "import scipy.integrate"
   ]
  },
  {
   "cell_type": "markdown",
   "metadata": {},
   "source": [
    "### Mechanics"
   ]
  },
  {
   "cell_type": "code",
   "execution_count": 8,
   "metadata": {
    "ExecuteTime": {
     "end_time": "2019-09-18T14:02:11.307731Z",
     "start_time": "2019-09-18T14:02:11.226988Z"
    }
   },
   "outputs": [],
   "source": [
    "def mechanics(r_0, r, masses, q_0, p_0, t, tmax, n, body_lines, name = 'CubeQ'):    \n",
    "    \n",
    "    ## Identity Rotation\n",
    "    q_0 = [q for q in q_0]\n",
    "    positions = np.empty([len(masses), 3, n])\n",
    "    \n",
    "    ### Physics\n",
    "    \n",
    "    \n",
    "    ##### Inertial Tensor\n",
    "    ### Input:  r -> positions;\n",
    "    ###         m -> masses from the body;\n",
    "    ### Output: I -> Matrix representing the Inertial Tensor\n",
    "    ##### Gil Miranda - last revision 15/09/2019\n",
    "\n",
    "    def getInertialTensor(r, m):\n",
    "        I = np.zeros((3,3))\n",
    "        for i in range(len(m)):\n",
    "            I[0][0] += m[i]*(r[i][1]*r[i][1] + r[i][2]*r[i][2])\n",
    "            I[1][1] += m[i]*(r[i][0]*r[i][0] + r[i][2]*r[i][2])\n",
    "            I[2][2] += m[i]*(r[i][0]*r[i][0] + r[i][1]*r[i][1])\n",
    "\n",
    "            I[0][1] -= m[i]*r[i][0]*r[i][1]\n",
    "            I[0][2] -= m[i]*r[i][0]*r[i][2]\n",
    "            I[1][2] -= m[i]*r[i][1]*r[i][2]\n",
    "        I[1][0] = I[0][1]\n",
    "        I[2][0] = I[0][2]\n",
    "        I[2][1] = I[1][2]\n",
    "        return I\n",
    "\n",
    "    ## ----------------------Rever este-----------------------------------------\n",
    "\n",
    "    ##### Internal Angular Momentum\n",
    "    ### Input:  Q -> ?;\n",
    "    ###         v -> ?;\n",
    "    ###         masses -> masses from the body;\n",
    "    ### Output: s -> ?\n",
    "    ##### Gil Miranda - last revision 15/09/2019\n",
    "\n",
    "    def getInternalAngularMomentum(Q, v, masses):\n",
    "        s = np.zeros(3)\n",
    "        for (i,m) in enumerate(masses):\n",
    "            s = s + m*np.cross(Q[i], v[i])\n",
    "        return s\n",
    "    \n",
    "    ##### Center of Mass\n",
    "    ### Input:  r -> position vector;\n",
    "    ###         masses -> masses from the body;\n",
    "    ### Output: cm -> vector for center of mass of the system\n",
    "    ##### Gil Miranda - last revision 15/09/2019\n",
    "    def CM(r, masses):\n",
    "        cm = np.zeros(3)\n",
    "        for i in range(len(r)):\n",
    "            cm[0] += masses[i] * r[i][0]\n",
    "            cm[1] += masses[i] * r[i][1]\n",
    "            cm[2] += masses[i] * r[i][2]\n",
    "        total_m = sum(masses)\n",
    "        cm *= (1/total_m)\n",
    "        return cm\n",
    "\n",
    "    def translation_CM():\n",
    "        r_cm = CM(r_0, masses)\n",
    "        for i in range(len(r_0)):\n",
    "            r_0[i] -= r_cm\n",
    "            \n",
    "    def particles(t, r):\n",
    "        a = np.zeros([len(masses), 3])\n",
    "        for i in range(len(masses)):\n",
    "            a[i] = r[i](t)\n",
    "        return a\n",
    "\n",
    "    def eqOfMotion(x, t):\n",
    "        # q -> quaternion for rotation\n",
    "        # p -> body angular momentum\n",
    "        q = pyQ.Quaternion(x[:4])\n",
    "        p = x[4:]\n",
    "        # Position\n",
    "        pos = particles(t, r)\n",
    "\n",
    "        #Velocities\n",
    "        ep = 1e-7\n",
    "        v = (particles(t+ep, r) - particles(t-ep, r))/(2*ep)\n",
    "\n",
    "        # Tensor of Inertia\n",
    "        I = getInertialTensor(pos, masses)\n",
    "        Iinv = np.linalg.inv(I)\n",
    "\n",
    "        # Angular Momentum\n",
    "        L = getInternalAngularMomentum(pos, v, masses)\n",
    "        dumb = np.dot(Iinv, (p-L))\n",
    "        dp_dt = np.cross(p,dumb)\n",
    "\n",
    "        omega_i = np.dot(Iinv, (p-L))\n",
    "        omega = pyQ.Quaternion(0, omega_i[0], omega_i[1], omega_i[2])\n",
    "        dq_dt = 0.5 * q * omega\n",
    "        return [dq_dt[0],dq_dt[1],dq_dt[2],dq_dt[3]] + [dp_dt[0], dp_dt[1], dp_dt[2]]\n",
    "\n",
    "    def solve_eq(q_0, p_0, t):\n",
    "        args = (getInertialTensor,getInternalAngularMomentum)\n",
    "        q = scipy.integrate.odeint(eqOfMotion,q_0+p_0,t)\n",
    "        q = np.transpose(q)\n",
    "        q = q[:4,:]\n",
    "        return q\n",
    "    \n",
    "    def set_positions(q, n, tmax):\n",
    "        for k, rot in enumerate(np.transpose(q)):\n",
    "            t = k*tmax/n\n",
    "            p = particles(t, r)\n",
    "            for i in range(0, len(masses)):\n",
    "                q = pyQ.Quaternion(rot)\n",
    "                positions[i, : ,k] = q.rotate(p[i, :])\n",
    "    \n",
    "    translation_CM()\n",
    "    q = solve_eq(q_0, p_0, t)\n",
    "    set_positions(q, n, tmax)\n",
    "    \n",
    "    ## Graphics\n",
    "    \n",
    "    def update_plot(num, positions, body_lines, ani_lines, sc):\n",
    "        t = tmax*num/num_times\n",
    "        for line, (sp, ep) in zip(ani_lines, body_lines):\n",
    "            line._verts3d = positions[[sp,ep], :, num].T.tolist()\n",
    "        sc._offsets3d = juggle_axes(positions[:,0, num], positions[:,1, num], positions[:,2, num], 'z')\n",
    "        return sc\n",
    "\n",
    "\n",
    "    #Create figure object and set animation\n",
    "    fig = plt.figure()\n",
    "    ax = fig.gca(projection='3d')\n",
    "    ax.set_xlabel('X')\n",
    "    ax.set_ylabel('Y')\n",
    "    ax.set_zlabel('Z')\n",
    "    ax.set_xlim3d([-1.0, 1.0])\n",
    "    ax.set_ylim3d([-1.0, 1.0])\n",
    "    ax.set_zlim3d([-1.0, 1.0])\n",
    "    #ax.grid()\n",
    "\n",
    "\n",
    "    # Lines between parts of cat\n",
    "\n",
    "    ani_lines = [ax.plot([], [], [], 'k-')[0] for _ in body_lines]\n",
    "\n",
    "\n",
    "    sc = ax.scatter3D(positions[:,0, 0], positions[:,1, 0], positions[:,2, 0], marker='o', c='red', s = 60)\n",
    "    #for sp, ep in body_lines:\n",
    "    #    ax.plot(positions[sp:ep, 0, 0], positions[sp:ep, 1, 0], positions[sp:ep, 2, 0])\n",
    "\n",
    "\n",
    "    ani = FuncAnimation(fig, update_plot,  frames=len(time), interval=2,\n",
    "            fargs=(positions, body_lines, ani_lines, sc), repeat=True)\n",
    "    plt.show()\n",
    "    ani.save('./'+ name + '.gif', writer='pillow', fps=15)"
   ]
  },
  {
   "cell_type": "markdown",
   "metadata": {},
   "source": [
    "### Initial Values"
   ]
  },
  {
   "cell_type": "code",
   "execution_count": 9,
   "metadata": {
    "ExecuteTime": {
     "end_time": "2019-09-18T14:02:29.037340Z",
     "start_time": "2019-09-18T14:02:29.009915Z"
    }
   },
   "outputs": [],
   "source": [
    "## Ok\n",
    "\n",
    "masses = np.array([1,1,1,1,1,1,1,1,.5,.5])\n",
    "n_mass = len(masses)\n",
    "r_0 = [None]*n_mass\n",
    "\n",
    "r_0[0] = [1, 1, 0]\n",
    "r_0[1] = [1, -1, 0]\n",
    "r_0[2] = [-1, 1, 0]\n",
    "r_0[3] = [-1, -1, 0]\n",
    "r_0[4] = [1, 1, -1]\n",
    "r_0[5] = [1,-1,-1]\n",
    "r_0[6] = [-1,1,-1]\n",
    "r_0[7] = [-1, -1, -1]\n",
    "r_0[8] = [0, -.5, .5]\n",
    "r_0[9] = [0, .5, .5]\n",
    "\n",
    "r_0 = np.array(r_0)"
   ]
  },
  {
   "cell_type": "markdown",
   "metadata": {},
   "source": [
    "### Visualizing the Cube"
   ]
  },
  {
   "cell_type": "markdown",
   "metadata": {},
   "source": [
    "#### Motion"
   ]
  },
  {
   "cell_type": "code",
   "execution_count": 10,
   "metadata": {},
   "outputs": [],
   "source": [
    "body_lines = [\n",
    "    ## top\n",
    "    (0, 1),\n",
    "    (0, 2),\n",
    "    (1, 3),\n",
    "    (3, 2),\n",
    "\n",
    "    ## bottom\n",
    "    (4, 5),\n",
    "    (4, 6),\n",
    "    (5, 7),\n",
    "    (7, 6),\n",
    "    \n",
    "    ## vertical\n",
    "    (0, 4),\n",
    "    (1, 5),\n",
    "    (3, 7),\n",
    "    (2, 6),\n",
    "    \n",
    "    ## propeller\n",
    "    (8, 9)\n",
    "]"
   ]
  },
  {
   "cell_type": "code",
   "execution_count": 15,
   "metadata": {
    "ExecuteTime": {
     "end_time": "2019-09-18T14:56:26.510412Z",
     "start_time": "2019-09-18T14:56:26.478437Z"
    }
   },
   "outputs": [],
   "source": [
    "q_0 = pyQ.Quaternion(axis = [1,0,0], radians = 0)\n",
    "p_0 = [0,5,0]\n",
    "\n",
    "tmax = 10\n",
    "num_times = 400\n",
    "time = np.linspace(0,tmax,num_times)\n",
    "r = [0 for i in range(0, len(masses))]\n",
    "\n",
    "for i in range(0,len(masses)):\n",
    "    r[i] = lambda t, i=i: r_0[i, :]\n",
    "\n",
    "tmax_r1 = tmax/20\n",
    "ang_max = np.pi/2\n",
    "freq = 2*np.pi/tmax\n",
    "for i in range(len(masses)-2):\n",
    "    def ri(t, j=i):\n",
    "        q = pyQ.Quaternion(axis = [0,1,0], radians = freq*t/tmax_r1)\n",
    "        return q.rotate(r_0[j])\n",
    "    r[i] = ri\n",
    "    \n",
    "for i in (8,9):\n",
    "    def ri(t, j=i):\n",
    "        q = pyQ.Quaternion(axis = [0,1,0], radians = -freq*t/tmax_r1)\n",
    "        return q.rotate(r_0[j])\n",
    "    r[i] = ri\n",
    "    \n"
   ]
  },
  {
   "cell_type": "code",
   "execution_count": 16,
   "metadata": {},
   "outputs": [
    {
     "data": {
      "image/png": "[encoded data removed]",
      "text/plain": [
       "<Figure size 432x288 with 1 Axes>"
      ]
     },
     "metadata": {
      "needs_background": "light"
     },
     "output_type": "display_data"
    }
   ],
   "source": [
    "mechanics(r_0, r, masses, q_0, p_0, time, tmax, num_times, body_lines, name = 'cube_y')"
   ]
  },
  {
   "cell_type": "code",
   "execution_count": null,
   "metadata": {},
   "outputs": [],
   "source": [
    "mudar p para L0 e verificar\n",
    "ri(t) = R(t) rid(t)\n",
    "simular IcWc"
   ]
  },
  {
   "cell_type": "code",
   "execution_count": 2,
   "metadata": {},
   "outputs": [],
   "source": [
    "import timeit"
   ]
  },
  {
   "cell_type": "code",
   "execution_count": 6,
   "metadata": {},
   "outputs": [
    {
     "ename": "TypeError",
     "evalue": "'module' object is not callable",
     "output_type": "error",
     "traceback": [
      "\u001b[0;31m---------------------------------------------------------------------------\u001b[0m",
      "\u001b[0;31mTypeError\u001b[0m                                 Traceback (most recent call last)",
      "\u001b[0;32m<ipython-input-6-c9c1839a3e4a>\u001b[0m in \u001b[0;36m<module>\u001b[0;34m\u001b[0m\n\u001b[0;32m----> 1\u001b[0;31m \u001b[0mtimeit\u001b[0m\u001b[0;34m(\u001b[0m\u001b[0;34m'i ** float(j)'\u001b[0m\u001b[0;34m,\u001b[0m \u001b[0msetup\u001b[0m\u001b[0;34m=\u001b[0m\u001b[0;34m'i, j = 7, 5'\u001b[0m\u001b[0;34m)\u001b[0m\u001b[0;34m\u001b[0m\u001b[0;34m\u001b[0m\u001b[0m\n\u001b[0m",
      "\u001b[0;31mTypeError\u001b[0m: 'module' object is not callable"
     ]
    }
   ],
   "source": [
    "timeit('i ** float(j)', setup='i, j = 7, 5')"
   ]
  },
  {
   "cell_type": "code",
   "execution_count": null,
   "metadata": {},
   "outputs": [],
   "source": []
  }
 ],
 "metadata": {
  "kernelspec": {
   "display_name": "Python 3",
   "language": "python",
   "name": "python3"
  },
  "language_info": {
   "codemirror_mode": {
    "name": "ipython",
    "version": 3
   },
   "file_extension": ".py",
   "mimetype": "text/x-python",
   "name": "python",
   "nbconvert_exporter": "python",
   "pygments_lexer": "ipython3",
   "version": "3.7.4"
  }
 },
 "nbformat": 4,
 "nbformat_minor": 4
}
