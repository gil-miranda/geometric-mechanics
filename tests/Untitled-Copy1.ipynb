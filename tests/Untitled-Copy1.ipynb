{
 "cells": [
  {
   "cell_type": "markdown",
   "metadata": {},
   "source": [
    "## Equações de movimento:\n",
    "\n",
    "$$ \\frac{dp}{dt}(t) = p(t) \\times I^{-1}(t) \\left( p(t) - L_0(t) \\right) $$\n",
    " $$ \\omega = I^{-1} \\left( p - L_0 \\right) $$\n",
    "\n",
    "E dado $\\omega \\in \\mathbb{R}^3$ podemos achar uma rotação $q$ tal que:\n",
    "\n",
    "$$ \\frac{dq}{dt} = \\frac{1}{2} q \\omega $$\n"
   ]
  },
  {
   "cell_type": "markdown",
   "metadata": {},
   "source": [
    "### Importando bibliotecas"
   ]
  },
  {
   "cell_type": "code",
   "execution_count": 1,
   "metadata": {
    "ExecuteTime": {
     "end_time": "2019-09-18T14:04:29.269491Z",
     "start_time": "2019-09-18T14:04:26.597604Z"
    }
   },
   "outputs": [],
   "source": [
    "from numpy import *\n",
    "from matplotlib.pyplot import *\n",
    "from mpl_toolkits.mplot3d.axes3d import Axes3D\n",
    "from matplotlib.animation import FuncAnimation\n",
    "from mpl_toolkits.mplot3d.art3d import juggle_axes\n",
    "\n",
    "import scipy as sp\n",
    "import scipy.integrate\n"
   ]
  },
  {
   "cell_type": "markdown",
   "metadata": {},
   "source": [
    "### Álgebra de Quaternions\n",
    "\n",
    "#### Multiplicação entre dois quaternions\n",
    "$$q_1 = w_1 + ix_1 + jy_1 + kz_1$$\n",
    "$$q_2 = w_2 + ix_2 + jy_2 + kz_2$$\n",
    "<br>\n",
    "$$\n",
    "r = q_1 \\times q_2 = w + ix + jy + kz\n",
    "$$\n",
    "Com:\n",
    "$$\n",
    "w = w_1w_2 - x_1 x_2 - y_1 y_2 - z_1 z_2 \\\\\n",
    "x = w_1 x_2 + x_1 w_2 + y_1 z_2 - z_1 y_2\\\\\n",
    "y = w_1 y_2 + y_1 w_2 + z_1 x_2 - x_1 z_2\\\\\n",
    "z = w_1 z_2 + z_1 w_2 + x_1 y_2 - y_1 x_2\n",
    "$$"
   ]
  },
  {
   "cell_type": "code",
   "execution_count": 2,
   "metadata": {
    "ExecuteTime": {
     "end_time": "2019-09-18T14:04:29.292317Z",
     "start_time": "2019-09-18T14:04:29.274117Z"
    }
   },
   "outputs": [],
   "source": [
    "def q_mult(q1, q2):\n",
    "    w1, x1, y1, z1 = q1\n",
    "    w2, x2, y2, z2 = q2\n",
    "    w = w1 * w2 - x1 * x2 - y1 * y2 - z1 * z2\n",
    "    x = w1 * x2 + x1 * w2 + y1 * z2 - z1 * y2\n",
    "    y = w1 * y2 + y1 * w2 + z1 * x2 - x1 * z2\n",
    "    z = w1 * z2 + z1 * w2 + x1 * y2 - y1 * x2\n",
    "    return np.array([w, x, y, z])"
   ]
  },
  {
   "cell_type": "markdown",
   "metadata": {},
   "source": [
    "#### Conjugado de um quaternion\n",
    "$$ q = w + ix + jy + kz \\\\\n",
    "   \\bar{q} = w -ix -jy -z\n",
    "$$"
   ]
  },
  {
   "cell_type": "code",
   "execution_count": 3,
   "metadata": {
    "ExecuteTime": {
     "end_time": "2019-09-18T14:04:29.472261Z",
     "start_time": "2019-09-18T14:04:29.296627Z"
    }
   },
   "outputs": [],
   "source": [
    "def q_conjugate(q):\n",
    "    return np.array([q[0], -q[1], -q[2], -q[3]])"
   ]
  },
  {
   "cell_type": "code",
   "execution_count": 4,
   "metadata": {
    "ExecuteTime": {
     "end_time": "2019-09-18T14:05:22.606859Z",
     "start_time": "2019-09-18T14:04:29.476528Z"
    }
   },
   "outputs": [
    {
     "name": "stdout",
     "output_type": "stream",
     "text": [
      "number of masses:  9\n",
      "cm gato [0.     0.1008 0.2912]\n"
     ]
    },
    {
     "name": "stderr",
     "output_type": "stream",
     "text": [
      "/usr/lib/python3.7/site-packages/ipykernel_launcher.py:9: DeprecationWarning: Calling np.sum(generator) is deprecated, and in the future will give a different result. Use np.sum(np.fromiter(generator)) or the python sum builtin instead.\n",
      "  if __name__ == '__main__':\n"
     ]
    }
   ],
   "source": [
    "\n",
    "# # Álgebra de quaternions:\n",
    "\n",
    "def rotate(q, v):\n",
    "    q = normalize(q)\n",
    "    vec = concatenate(([0.0], v))\n",
    "    return q_mult(q_mult(q, vec), q_conjugate(q))[1:]\n",
    "\n",
    "def normalize(q, tolerance=1e-5):\n",
    "    magnitude2 = sum(x * x for x in q)\n",
    "\n",
    "    if abs(magnitude2 - 1.0) > tolerance:\n",
    "        magnitude = sqrt(magnitude2)\n",
    "        q = array([x / magnitude for x in q])\n",
    "\n",
    "    return q\n",
    "\n",
    "def ax2quaternion(v, theta):\n",
    "    q = [0]*4\n",
    "    v = normalize(v)\n",
    "    q[0] = cos(theta/2.0)\n",
    "\n",
    "    q[1] = v[0] * sin(theta/2.0)\n",
    "    q[2] = v[1] * sin(theta/2.0)\n",
    "    q[3] = v[2] * sin(theta/2.0)\n",
    "    return q\n",
    "\n",
    "\n",
    "# # Mêcanica:\n",
    "\n",
    "def getInertiaTensor(r, masses):\n",
    "    # r = positions vectors\n",
    "    I = zeros((3,3))\n",
    "    for i in range(0, len(masses)):\n",
    "        I[0][0] += masses[i]*(r[i][1]*r[i][1] + r[i][2]*r[i][2])\n",
    "        I[1][1] += masses[i]*(r[i][0]*r[i][0] + r[i][2]*r[i][2])\n",
    "        I[2][2] += masses[i]*(r[i][0]*r[i][0] + r[i][1]*r[i][1])\n",
    "\n",
    "        I[0][1] += -masses[i]*r[i][0]*r[i][1]\n",
    "        I[0][2] += -masses[i]*r[i][0]*r[i][2]\n",
    "        I[1][2] += -masses[i]*r[i][1]*r[i][2]\n",
    "\n",
    "    I[1][0] = I[0][1]\n",
    "    I[2][0] = I[0][2]\n",
    "    I[2][1] = I[1][2]\n",
    "\n",
    "    return I\n",
    "\n",
    "def getInternalAngularMomentum(Q, v, masses):\n",
    "    s = array([0,0,0])\n",
    "    for i, m in enumerate(masses):\n",
    "        s = s + m*cross(Q[i], v[i])\n",
    "    return s\n",
    "\n",
    "def CM(r,m):\n",
    "    cm = array([0]*3)\n",
    "    for i in range(len(r)):\n",
    "        cm[0] += m[i]* r[i][0]\n",
    "        cm[1] += m[i]* r[i][1]\n",
    "        cm[2] += m[i]* r[i][2]\n",
    "    cm = (1.0/sum(m))*cm\n",
    "    return cm\n",
    "\n",
    "\n",
    "# # Dados iniciais:\n",
    "\n",
    "#Initialize data\n",
    "#num_of_masses = 9\n",
    "#masses = array([1, 1, 0.6, 0.6, 1.5, 1, 0.6, 0.6, 1])*50\n",
    "\n",
    "#r_0 = [None]*num_of_masses\n",
    "\n",
    "#r_0[0] = [0, -1.2, -0.5] # Head\n",
    "#r_0[1] = [0, -1, 0] # Neck\n",
    "#r_0[2] = [-1,-1,1] # Leg 1\n",
    "#r_0[3] = [1, -1,1] #Leg 2\n",
    "#r_0[4] = [0,0,0] # Center of body\n",
    "#r_0[5] = [0,1,0] # Ribs\n",
    "#r_0[6] = [-1,1, 1] #Leg 3\n",
    "#r_0[7] = [1,1, 1] #Leg 4\n",
    "#r_0[8] = [0, 1.5, -0.3] #Tail\n",
    "#r_0 = array(r_0)\n",
    "\n",
    "\n",
    "# a block\n",
    "masses = array([3, 2, 1, 1, 0.2, 2, 1, 1, 1.3])*50\n",
    "print(\"number of masses: \", len(masses))\n",
    "\n",
    "r_0 = [None]*len(masses)\n",
    "\n",
    "r_0[0] = [0, 0, 0] #centro do corpo\n",
    "\n",
    "r_0[1] = [0, -1, 0] #parte de trás \n",
    "r_0[2] = [0.5,  -1, 1] #pata tras 1 \n",
    "r_0[3] = [-0.5, -1, 1] # pata trás 2\n",
    "r_0[4] = [0, -1.5, -0.5] #cauda\n",
    " \n",
    "r_0[5] = [0,  1, 0]  #parte da frente\n",
    "r_0[6] = [0.5, 1, 1] #pata frente 1 \n",
    "r_0[7] = [-0.5, 1,1] #pata frente 2\n",
    "r_0[8] = [0, 1.2, -0.2] #cabeça\n",
    "\n",
    "r_0 = array(r_0)\n",
    "\n",
    "\n",
    "#Lines between each part of the body\n",
    "#Only used in animation\n",
    "body_lines = [\n",
    "    (0, 1),\n",
    "    (1, 2),\n",
    "    (1, 3),\n",
    "    (1, 4),\n",
    "\n",
    "    (0, 5),\n",
    "    (5, 6),\n",
    "    (5, 7),\n",
    "    (5, 8),\n",
    "]\n",
    "\n",
    "\n",
    "\n",
    "#translacao para deixar o centro de massa na origem\n",
    "r_cm = CM(r_0, masses)\n",
    "for i in range(len(r_0)):\n",
    "    r_0[i] = r_0[i] - r_cm\n",
    "\n",
    "\n",
    "print('cm gato', r_cm )\n",
    "\n",
    "# Teste no caso de 3 pontos\n",
    "\"\"\"\n",
    "masses = array([50.,50.,50.])\n",
    "r_0[0] = [0, -1.7, 0.3]\n",
    "r_0[1] = [0,0,0]\n",
    "r_0[2] = [0, 1.2, 0.6]\n",
    "\n",
    "\"\"\"\n",
    "## problematico\n",
    "q_0 = [1,0,0,0] #Identity rotation\n",
    "p_0 = [0,0,0] #Cat starts without moving\n",
    "tmax = 10.0\n",
    "num_times= 400\n",
    "time = linspace(0.0, tmax, num_times)\n",
    "r = [0 for i in range(0,len(masses))]\n",
    "\n",
    "for i in range(0,len(masses)):\n",
    "    r[i] = lambda t, i=i: r_0[i, :]\n",
    "\n",
    "\n",
    "tmax_r1 = tmax/20.\n",
    "ang_max = -pi/6.\n",
    "freq = 2*pi/(tmax - tmax_r1)\n",
    "for i in (1,2,3,4):\n",
    "    def ri(t, j=i):\n",
    "        if t < tmax_r1:\n",
    "            return rotate( ax2quaternion(array([1,0,0]), t*ang_max/tmax_r1), r_0[j, :] )\n",
    "        else:\n",
    "            rx = rotate( ax2quaternion(array([1,0,0]), ang_max), r_0[j, :] )\n",
    "            axis = rotate( ax2quaternion(array([1,0,0]), ang_max), r_0[1, :] ) -  rotate( ax2quaternion(array([1,0,0]), ang_max), r_0[0, :] )\n",
    "\n",
    "            return rotate( ax2quaternion( axis, freq*(t - tmax_r1)), rx)\n",
    "    r[i] = ri\n",
    "\n",
    "for i in (5,6,7,8):\n",
    "    def ri(t, j=i):\n",
    "        if t < tmax_r1:\n",
    "            return rotate( ax2quaternion(array([1,0,0]), -t*ang_max/tmax_r1), r_0[j, :] )\n",
    "        else:\n",
    "            rx = rotate( ax2quaternion(array([1,0,0]), -ang_max), r_0[j, :] )\n",
    "            axis = rotate( ax2quaternion(array([1,0,0]), -ang_max), r_0[5, :] ) -  rotate( ax2quaternion(array([1,0,0]), -ang_max), r_0[0, :] )\n",
    "\n",
    "            return rotate( ax2quaternion( axis, -freq*(t - tmax_r1)), rx) \n",
    "\n",
    "    r[i] = ri\n",
    "\n",
    "\n",
    "#for i in (0,2,3):\n",
    "    #r[i] = lambda t, i=i: rotate(ax2quaternion(r_0[1]-r_0[4], 1.5*pi*t/tmax), r_0[i, :])\n",
    "\n",
    "#for i in (6,7,8):\n",
    "    #r[i] = lambda t, i=i: rotate(ax2quaternion(r_0[5]-r_0[4], 1.5*pi*t/tmax), r_0[i, :])\n",
    "\n",
    "\n",
    "\n",
    "\n",
    "def particles(t):\n",
    "    a = empty([len(masses), 3])\n",
    "    for i in range(0,len(masses)):\n",
    "        a[i] = r[i](t)\n",
    "    return a\n",
    "\n",
    "\n",
    "# # Equações de movimento:\n",
    "#\n",
    "# $$ \\frac{dp}{dt}(t) = p(t) \\times I^{-1}(t) \\left( p(t) - L_0(t) \\right) $$\n",
    "    # $$ \\omega = I^{-1} \\left( p - L_0 \\right) $$\n",
    "    #\n",
    "#\n",
    "# E dado $\\omega \\in \\mathbb{R}^3$ podemos achar uma rotação $q$ tal que:\n",
    "#\n",
    "#\n",
    "# $$ \\frac{dq}{dt} = \\frac{1}{2} q \\omega $$\n",
    "#\n",
    "\n",
    "\n",
    "def eqOfMotion(x, t, I, L_0):\n",
    "    #Rotation\n",
    "    #print(t)\n",
    "    q = array(x[:4])\n",
    "    #Body angular momentum\n",
    "    p = array(x[4:])\n",
    "\n",
    "    #Positions at instant t\n",
    "    pos = particles(t)\n",
    "    #Velocities at instant t\n",
    "    ep = 1e-7\n",
    "    v = (particles(t+ep) - particles(t-ep) ) / (2*ep)\n",
    "\n",
    "\n",
    "    #Tensor of inertia\n",
    "    A = I(pos, masses)\n",
    "    Iinv = linalg.inv(A)\n",
    "\n",
    "    #Angular Momentum\n",
    "    L = L_0(pos, v, masses)\n",
    "    dp_dt = cross(dot(Iinv,p), (p-L))\n",
    "\n",
    "    omega = dot(Iinv, (p - L))\n",
    "    dq_dt = 0.5 * q_mult(q, concatenate(([0.0], omega)))\n",
    "\n",
    "    return [dq_dt[0], dq_dt[1], dq_dt[2], dq_dt[3]] + [dp_dt[0], dp_dt[1], dp_dt[2]]\n",
    "\n",
    "\n",
    "# Get the body angular momentum\n",
    "# P == momento angular do corpo\n",
    "\n",
    "args = (getInertiaTensor, getInternalAngularMomentum)\n",
    "q = sp.integrate.odeint(eqOfMotion, q_0 + p_0, time, args)\n",
    "q = transpose(q)\n",
    "q = q[:4, :]\n",
    "\n"
   ]
  },
  {
   "cell_type": "code",
   "execution_count": 5,
   "metadata": {},
   "outputs": [
    {
     "name": "stderr",
     "output_type": "stream",
     "text": [
      "/usr/lib/python3.7/site-packages/ipykernel_launcher.py:9: DeprecationWarning: Calling np.sum(generator) is deprecated, and in the future will give a different result. Use np.sum(np.fromiter(generator)) or the python sum builtin instead.\n",
      "  if __name__ == '__main__':\n"
     ]
    },
    {
     "name": "stdout",
     "output_type": "stream",
     "text": [
      "400 13.333333333333334\n",
      "bump1\n"
     ]
    },
    {
     "data": {
      "image/png": "[encoded data removed]",
      "text/plain": [
       "<Figure size 432x288 with 1 Axes>"
      ]
     },
     "metadata": {
      "needs_background": "light"
     },
     "output_type": "display_data"
    },
    {
     "name": "stdout",
     "output_type": "stream",
     "text": [
      "bump2\n"
     ]
    }
   ],
   "source": [
    "\n",
    "# # Achar posições da rotação:\n",
    "# Dadas posições no ponto de vista da partícula e rotações encontradas, queremos:\n",
    "#\n",
    "# $$ r_i(t) = R(t)r_{i0}(t) = q(t) r_{i0}(t) \\bar{q}(t) $$\n",
    "#\n",
    "#\n",
    "\n",
    "positions = empty([len(masses), 3, num_times])\n",
    "\n",
    "for k, rot in enumerate(transpose(q)):\n",
    "    t = k*tmax/num_times\n",
    "    p = particles(t)\n",
    "    for i in range(0,len(masses)):\n",
    "        # Sistema inercial\n",
    "        positions[i,:, k] = rotate(rot, p[i, :]) + r_cm\n",
    "        # Sistema do corpo\n",
    "        #positions[i,:, k] = p[i, :]\n",
    "\n",
    "\n",
    "# # It's plotting time!\n",
    "\n",
    "\n",
    "# Animation function\n",
    "def update_plot(num, positions, body_lines, ani_lines, sc):\n",
    "    t = tmax*num/num_times\n",
    "\n",
    "    for line, (sp, ep) in zip(ani_lines, body_lines):\n",
    "        line._verts3d = positions[[sp,ep], :, num].T.tolist()\n",
    "\n",
    "    sc._offsets3d = juggle_axes(positions[:,0, num], positions[:,1, num], positions[:,2, num], 'z')\n",
    "    return sc\n",
    "\n",
    "#Create figure object and set animation\n",
    "fig = figure()\n",
    "ax = fig.gca(projection='3d')\n",
    "ax.set_xlabel('X')\n",
    "ax.set_ylabel('Y')\n",
    "ax.set_zlabel('Z')\n",
    "ax.set_xlim3d([-3.0, 3.0])\n",
    "ax.set_ylim3d([-3.0, 3.0])\n",
    "ax.set_zlim3d([-3.0, 3.0])\n",
    "#ax.grid()\n",
    "\n",
    "\n",
    "# Lines between parts of cat\n",
    "\n",
    "ani_lines = [ax.plot([], [], [], 'k-')[0] for _ in body_lines]\n",
    "\n",
    "\n",
    "sc = ax.scatter3D(positions[:,0, 0], positions[:,1, 0], positions[:,2, 0], marker='o', c='b', s=masses)\n",
    "\n",
    "\n",
    "\n",
    "ani = FuncAnimation(fig, update_plot,  frames=len(time), interval=2,\n",
    "        fargs=(positions, body_lines, ani_lines, sc), repeat=True)\n",
    "\n",
    "print(len(time), len(time)/30.0)\n",
    "print(\"bump1\")\n",
    "show()\n",
    "ani.save('./animation.gif', writer='pillow', fps=30)\n",
    "print(\"bump2\")\n"
   ]
  },
  {
   "cell_type": "code",
   "execution_count": 6,
   "metadata": {},
   "outputs": [
    {
     "data": {
      "text/plain": [
       "array([[ 0.00000000e+00,  0.00000000e+00,  0.00000000e+00, ...,\n",
       "         5.71995008e-02,  5.97700675e-02,  6.23358068e-02],\n",
       "       [ 0.00000000e+00,  2.11433166e-04,  4.22911067e-04, ...,\n",
       "         3.55919696e-02,  3.55726425e-02,  3.55466898e-02],\n",
       "       [ 0.00000000e+00, -7.30757761e-05, -1.46021883e-04, ...,\n",
       "         5.86892673e-01,  5.86379533e-01,  5.85842627e-01]])"
      ]
     },
     "execution_count": 6,
     "metadata": {},
     "output_type": "execute_result"
    }
   ],
   "source": [
    "positions[0]"
   ]
  },
  {
   "cell_type": "code",
   "execution_count": 7,
   "metadata": {},
   "outputs": [
    {
     "data": {
      "text/plain": [
       "[<function __main__.<lambda>(t, i=0)>,\n",
       " <function __main__.ri(t, j=1)>,\n",
       " <function __main__.ri(t, j=2)>,\n",
       " <function __main__.ri(t, j=3)>,\n",
       " <function __main__.ri(t, j=4)>,\n",
       " <function __main__.ri(t, j=5)>,\n",
       " <function __main__.ri(t, j=6)>,\n",
       " <function __main__.ri(t, j=7)>,\n",
       " <function __main__.ri(t, j=8)>]"
      ]
     },
     "execution_count": 7,
     "metadata": {},
     "output_type": "execute_result"
    }
   ],
   "source": [
    "r"
   ]
  },
  {
   "cell_type": "code",
   "execution_count": 8,
   "metadata": {},
   "outputs": [
    {
     "data": {
      "text/plain": [
       "array([[ 0.    , -0.1008, -0.2912],\n",
       "       [ 0.    , -1.1008, -0.2912],\n",
       "       [ 0.5   , -1.1008,  0.7088],\n",
       "       [-0.5   , -1.1008,  0.7088],\n",
       "       [ 0.    , -1.6008, -0.7912],\n",
       "       [ 0.    ,  0.8992, -0.2912],\n",
       "       [ 0.5   ,  0.8992,  0.7088],\n",
       "       [-0.5   ,  0.8992,  0.7088],\n",
       "       [ 0.    ,  1.0992, -0.4912]])"
      ]
     },
     "execution_count": 8,
     "metadata": {},
     "output_type": "execute_result"
    }
   ],
   "source": [
    "r_0"
   ]
  },
  {
   "cell_type": "code",
   "execution_count": 9,
   "metadata": {},
   "outputs": [
    {
     "data": {
      "image/png": "[encoded data removed]",
      "text/plain": [
       "<Figure size 576x576 with 1 Axes>"
      ]
     },
     "metadata": {
      "needs_background": "light"
     },
     "output_type": "display_data"
    }
   ],
   "source": [
    "fig = figure(figsize = (8,8))\n",
    "ax = fig.add_subplot(111, projection = '3d')\n",
    "for r in r_0:\n",
    "    ax.scatter3D(r[0], r[1], r[2])\n",
    "for line, (sp, ep) in zip(ani_lines, body_lines):\n",
    "        line._verts3d = positions[[sp,ep], :, 5].T.tolist()"
   ]
  },
  {
   "cell_type": "code",
   "execution_count": null,
   "metadata": {},
   "outputs": [],
   "source": []
  },
  {
   "cell_type": "code",
   "execution_count": null,
   "metadata": {},
   "outputs": [],
   "source": []
  }
 ],
 "metadata": {
  "kernelspec": {
   "display_name": "Python 3",
   "language": "python",
   "name": "python3"
  },
  "language_info": {
   "codemirror_mode": {
    "name": "ipython",
    "version": 3
   },
   "file_extension": ".py",
   "mimetype": "text/x-python",
   "name": "python",
   "nbconvert_exporter": "python",
   "pygments_lexer": "ipython3",
   "version": "3.7.4"
  }
 },
 "nbformat": 4,
 "nbformat_minor": 2
}
