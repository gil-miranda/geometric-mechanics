{
 "cells": [
  {
   "cell_type": "code",
   "execution_count": 15,
   "metadata": {
    "ExecuteTime": {
     "end_time": "2019-09-18T14:02:11.221952Z",
     "start_time": "2019-09-18T14:02:06.938209Z"
    }
   },
   "outputs": [],
   "source": [
    "# Libraries for Scientific Computing\n",
    "import numpy as np\n",
    "import pyquaternion as pyQ\n",
    "\n",
    "# Libraries for graphics\n",
    "import matplotlib.pyplot as plt\n",
    "from mpl_toolkits.mplot3d.axes3d import Axes3D\n",
    "from matplotlib.animation import FuncAnimation\n",
    "from mpl_toolkits.mplot3d.art3d import juggle_axes\n",
    "\n",
    "import scipy as sp\n",
    "import scipy.integrate"
   ]
  },
  {
   "cell_type": "markdown",
   "metadata": {},
   "source": [
    "### Mechanics"
   ]
  },
  {
   "cell_type": "code",
   "execution_count": 16,
   "metadata": {
    "ExecuteTime": {
     "end_time": "2019-09-18T14:02:11.307731Z",
     "start_time": "2019-09-18T14:02:11.226988Z"
    }
   },
   "outputs": [],
   "source": [
    "## -------------------------Ok------------------------------------------------\n",
    "\n",
    "##### Inertial Tensor\n",
    "### Input:  r -> positions;\n",
    "###         masses -> masses from the body;\n",
    "### Output: I -> Matrix representing the Inertial Tensor\n",
    "##### Gil Miranda - last revision 15/09/2019\n",
    "\n",
    "def getInertialTensor(r, masses):\n",
    "    I = np.zeros((3,3))\n",
    "    for i in range(len(masses)):\n",
    "        I[0][0] += masses[i]*(r[i][1]**2 + r[i][2]**2)\n",
    "        I[1][1] += masses[i]*(r[i][0]**2 + r[i][2]**2)\n",
    "        I[2][2] += masses[i]*(r[i][0]**2 + r[i][1]**2)\n",
    "        \n",
    "        I[0][1] -= masses[i]*(r[i][0])*(r[i][1])\n",
    "        I[0][2] -= masses[i]*(r[i][0])*(r[i][2])\n",
    "        I[1][2] -= masses[i]*(r[i][1])*(r[i][2])\n",
    "    I[1][0] = I[0][1]\n",
    "    I[2][0] = I[0][2]\n",
    "    I[2][1] = I[1][2]\n",
    "    \n",
    "    return I\n",
    "\n",
    "## ----------------------Rever este-----------------------------------------\n",
    "\n",
    "##### Internal Angular Momentum\n",
    "### Input:  Q -> ?;\n",
    "###         v -> ?;\n",
    "###         masses -> masses from the body;\n",
    "### Output: s -> ?\n",
    "##### Gil Miranda - last revision 15/09/2019\n",
    "\n",
    "def getInternalAngularMomentum(Q, v, masses):\n",
    "    s = np.zeros(3)\n",
    "    for (i,m) in enumerate(masses):\n",
    "        s = s + m*np.cross(Q[i], v[i])\n",
    "    return s\n",
    "\n",
    "## --------------------------Ok-------------------------------------\n",
    "\n",
    "##### Center of Mass\n",
    "### Input:  r -> position vector;\n",
    "###         masses -> masses from the body;\n",
    "### Output: cm -> vector for center of mass of the system\n",
    "##### Gil Miranda - last revision 15/09/2019\n",
    "def CM(r, masses):\n",
    "    cm = np.zeros(3)\n",
    "    for i in range(len(r)):\n",
    "        cm[0] += masses[i] * r[i][0]\n",
    "        cm[1] += masses[i] * r[i][1]\n",
    "        cm[2] += masses[i] * r[i][2]\n",
    "    total_m = sum(masses)\n",
    "    cm *= (1/total_m)\n",
    "    return cm"
   ]
  },
  {
   "cell_type": "markdown",
   "metadata": {},
   "source": [
    "### Initial Values"
   ]
  },
  {
   "cell_type": "code",
   "execution_count": 17,
   "metadata": {
    "ExecuteTime": {
     "end_time": "2019-09-18T14:02:29.037340Z",
     "start_time": "2019-09-18T14:02:29.009915Z"
    }
   },
   "outputs": [],
   "source": [
    "## Ok\n",
    "\n",
    "masses = np.array([3, 2, 1, 1, 0.2, 2, 1, 1, 1.3])*50\n",
    "n_mass = len(masses)\n",
    "r_0 = [None]*n_mass\n",
    "\n",
    "r_0[0] = [0, 0, 0] # Center of the Body\n",
    "r_0[1] = [0, -1, 0] # Back of the Body\n",
    "r_0[2] = [0.5, -1, 1] # Back Paw 1\n",
    "r_0[3] = [-0.5, -1, 1] # Back Paw 2\n",
    "r_0[4] = [0, -1.5, -0.5] # Tails\n",
    "\n",
    "r_0[5] = [0, 1, 0] # Front Body\n",
    "r_0[6] = [0.5, 1, 1] # Front Paw 1\n",
    "r_0[7] = [-0.5, 1, 1] # Front Paw 2\n",
    "r_0[8] = [0, 1.2, -0.2] # Head\n",
    "\n",
    "r_0 = np.array(r_0)"
   ]
  },
  {
   "cell_type": "markdown",
   "metadata": {
    "ExecuteTime": {
     "end_time": "2019-09-18T14:03:12.772450Z",
     "start_time": "2019-09-18T14:03:12.765028Z"
    }
   },
   "source": [
    "#### Translation so we have $CM = (0,0,0)$"
   ]
  },
  {
   "cell_type": "code",
   "execution_count": 18,
   "metadata": {
    "ExecuteTime": {
     "end_time": "2019-09-18T14:57:03.996984Z",
     "start_time": "2019-09-18T14:57:03.988691Z"
    }
   },
   "outputs": [],
   "source": [
    "r_cm = CM(r_0, masses)\n",
    "for i in range(len(r_0)):\n",
    "    r_0[i] -= r_cm"
   ]
  },
  {
   "cell_type": "code",
   "execution_count": 19,
   "metadata": {},
   "outputs": [
    {
     "name": "stdout",
     "output_type": "stream",
     "text": [
      "[0.     0.1008 0.2912]\n"
     ]
    }
   ],
   "source": [
    "print(r_cm)"
   ]
  },
  {
   "cell_type": "markdown",
   "metadata": {},
   "source": [
    "#### Motion"
   ]
  },
  {
   "cell_type": "code",
   "execution_count": 88,
   "metadata": {
    "ExecuteTime": {
     "end_time": "2019-09-18T14:56:26.510412Z",
     "start_time": "2019-09-18T14:56:26.478437Z"
    }
   },
   "outputs": [],
   "source": [
    "## Identity Rotation\n",
    "q_0 = pyQ.Quaternion(1,0,0,0)\n",
    "p_0 = [0,0,0]\n",
    "\n",
    "tmax = 10\n",
    "num_times = 400\n",
    "time = np.linspace(0,tmax,num_times)\n",
    "r = [0 for i in range(0, len(masses))]\n",
    "\n",
    "## wth is going on here?\n",
    "for i in range(0,len(masses)):\n",
    "    r[i] = lambda t, i=i: r_0[i, :]\n",
    "\n",
    "    \n",
    "tmax_r1 = tmax/20\n",
    "ang_max = -np.pi/6\n",
    "freq = 2*np.pi/(tmax - tmax_r1)\n",
    "for i in (1,2,3,4):\n",
    "    def ri(t, j=i):\n",
    "        if t < tmax_r1:\n",
    "            t_q = pyQ.Quaternion(axis = [1,0,0], radians = t*ang_max/tmax_r1)\n",
    "            print('a')\n",
    "            return t_q.rotate(r_0[j, :])\n",
    "        else:\n",
    "            t_q = pyQ.Quaternion(axis = [1,0,0], radians = ang_max)\n",
    "            rx = t_q.rotate(r_0[j, :])\n",
    "            axis = t_q.rotate(r_0[1, :]) - t_q.rotate(r_0[0, :])\n",
    "            t_q2 = pyQ.Quaternion(axis = axis, radians = freq*(t-tmax_r1))\n",
    "            \n",
    "            return t_q2.rotate(rx)\n",
    "    r[i] = ri\n",
    "\n",
    "for i in (5,6,7,8):\n",
    "    def ri(t, j=i):\n",
    "        if t < tmax_r1:\n",
    "            t_q = pyQ.Quaternion(axis = [1,0,0], radians = -t*ang_max/tmax_r1)\n",
    "            return t_q.rotate(r_0[j, :])\n",
    "        else:\n",
    "            t_q = pyQ.Quaternion(axis = [1,0,0], radians = -ang_max)\n",
    "            rx = t_q.rotate(r_0[j, :])\n",
    "            axis = t_q.rotate(r_0[1, :]) - t_q.rotate(r_0[0, :])\n",
    "            t_q2 = pyQ.Quaternion(axis = axis, radians = -freq*(t-tmax_r1))\n",
    "            \n",
    "            return t_q2.rotate(rx)\n",
    "    r[i] = ri    \n",
    "    \n",
    "def particles(t):\n",
    "    a = np.zeros([len(masses), 3])\n",
    "    for i in range(len(masses)):\n",
    "        a[i] = r[i](t)\n",
    "    return a\n",
    "\n",
    "def eqOfMotion(x, t):\n",
    "    # q -> quaternion for rotation\n",
    "    # p -> body angular momentum\n",
    "    q = x[0]\n",
    "    p = x[1]\n",
    "    # Position\n",
    "    pos = particles(t)\n",
    "    \n",
    "    #Velocities\n",
    "    ep = 1e-7\n",
    "    v = (particles(2+ep) - particles(2-ep))/(2*ep)\n",
    "    \n",
    "    # Tensor of Inertia\n",
    "    I = getInertialTensor(pos, masses)\n",
    "    Iinv = np.linalg.inv(I)\n",
    "    \n",
    "    # Angular Momentum\n",
    "    L = getInternalAngularMomentum(pos, v, masses)\n",
    "    dumb = np.dot(Iinv, (p-L))\n",
    "    dp_dt = np.cross(p,dumb)\n",
    "    \n",
    "    omega = np.dot(Iinv, (p-L))\n",
    "    omega = np.concatenate(([0.], omega))\n",
    "    dq_dt = 0.5 * q * omega\n",
    "    print(dq_dt)\n",
    "    return [dq_dt , dp_dt]"
   ]
  },
  {
   "cell_type": "code",
   "execution_count": 89,
   "metadata": {},
   "outputs": [
    {
     "name": "stdout",
     "output_type": "stream",
     "text": [
      "0.000 -0.014i +0.017j +0.061k\n"
     ]
    },
    {
     "data": {
      "text/plain": [
       "[Quaternion(0.0, -0.014201978412476654, 0.01677053598268095, 0.06112905009554619),\n",
       " array([ 0., -0.,  0.])]"
      ]
     },
     "execution_count": 89,
     "metadata": {},
     "output_type": "execute_result"
    }
   ],
   "source": [
    "b = eqOfMotion([q_0,p_0], 150)\n",
    "# c = eqOfMotion([b[0],b[1]], 151)\n",
    "b"
   ]
  },
  {
   "cell_type": "code",
   "execution_count": 51,
   "metadata": {},
   "outputs": [
    {
     "data": {
      "text/plain": [
       "0.02506265664160401"
      ]
     },
     "execution_count": 51,
     "metadata": {},
     "output_type": "execute_result"
    }
   ],
   "source": [
    "time[1]"
   ]
  },
  {
   "cell_type": "code",
   "execution_count": 71,
   "metadata": {},
   "outputs": [
    {
     "ename": "ValueError",
     "evalue": "setting an array element with a sequence.",
     "output_type": "error",
     "traceback": [
      "\u001b[0;31m---------------------------------------------------------------------------\u001b[0m",
      "\u001b[0;31mValueError\u001b[0m                                Traceback (most recent call last)",
      "\u001b[0;32m<ipython-input-71-7f9a2f919bc8>\u001b[0m in \u001b[0;36m<module>\u001b[0;34m\u001b[0m\n\u001b[1;32m      1\u001b[0m \u001b[0margs\u001b[0m \u001b[0;34m=\u001b[0m \u001b[0;34m(\u001b[0m\u001b[0mgetInertialTensor\u001b[0m\u001b[0;34m,\u001b[0m\u001b[0mgetInternalAngularMomentum\u001b[0m\u001b[0;34m)\u001b[0m\u001b[0;34m\u001b[0m\u001b[0;34m\u001b[0m\u001b[0m\n\u001b[0;32m----> 2\u001b[0;31m \u001b[0mq\u001b[0m \u001b[0;34m=\u001b[0m \u001b[0msp\u001b[0m\u001b[0;34m.\u001b[0m\u001b[0mintegrate\u001b[0m\u001b[0;34m.\u001b[0m\u001b[0modeint\u001b[0m\u001b[0;34m(\u001b[0m\u001b[0meqOfMotion\u001b[0m\u001b[0;34m,\u001b[0m\u001b[0;34m[\u001b[0m\u001b[0mq_0\u001b[0m\u001b[0;34m,\u001b[0m\u001b[0mp_0\u001b[0m\u001b[0;34m]\u001b[0m\u001b[0;34m,\u001b[0m\u001b[0;36m2\u001b[0m\u001b[0;34m)\u001b[0m\u001b[0;34m\u001b[0m\u001b[0;34m\u001b[0m\u001b[0m\n\u001b[0m",
      "\u001b[0;32m/usr/lib/python3.7/site-packages/scipy/integrate/odepack.py\u001b[0m in \u001b[0;36modeint\u001b[0;34m(func, y0, t, args, Dfun, col_deriv, full_output, ml, mu, rtol, atol, tcrit, h0, hmax, hmin, ixpr, mxstep, mxhnil, mxordn, mxords, printmessg, tfirst)\u001b[0m\n\u001b[1;32m    231\u001b[0m                              \u001b[0mfull_output\u001b[0m\u001b[0;34m,\u001b[0m \u001b[0mrtol\u001b[0m\u001b[0;34m,\u001b[0m \u001b[0matol\u001b[0m\u001b[0;34m,\u001b[0m \u001b[0mtcrit\u001b[0m\u001b[0;34m,\u001b[0m \u001b[0mh0\u001b[0m\u001b[0;34m,\u001b[0m \u001b[0mhmax\u001b[0m\u001b[0;34m,\u001b[0m \u001b[0mhmin\u001b[0m\u001b[0;34m,\u001b[0m\u001b[0;34m\u001b[0m\u001b[0;34m\u001b[0m\u001b[0m\n\u001b[1;32m    232\u001b[0m                              \u001b[0mixpr\u001b[0m\u001b[0;34m,\u001b[0m \u001b[0mmxstep\u001b[0m\u001b[0;34m,\u001b[0m \u001b[0mmxhnil\u001b[0m\u001b[0;34m,\u001b[0m \u001b[0mmxordn\u001b[0m\u001b[0;34m,\u001b[0m \u001b[0mmxords\u001b[0m\u001b[0;34m,\u001b[0m\u001b[0;34m\u001b[0m\u001b[0;34m\u001b[0m\u001b[0m\n\u001b[0;32m--> 233\u001b[0;31m                              int(bool(tfirst)))\n\u001b[0m\u001b[1;32m    234\u001b[0m     \u001b[0;32mif\u001b[0m \u001b[0moutput\u001b[0m\u001b[0;34m[\u001b[0m\u001b[0;34m-\u001b[0m\u001b[0;36m1\u001b[0m\u001b[0;34m]\u001b[0m \u001b[0;34m<\u001b[0m \u001b[0;36m0\u001b[0m\u001b[0;34m:\u001b[0m\u001b[0;34m\u001b[0m\u001b[0;34m\u001b[0m\u001b[0m\n\u001b[1;32m    235\u001b[0m         \u001b[0mwarning_msg\u001b[0m \u001b[0;34m=\u001b[0m \u001b[0m_msgs\u001b[0m\u001b[0;34m[\u001b[0m\u001b[0moutput\u001b[0m\u001b[0;34m[\u001b[0m\u001b[0;34m-\u001b[0m\u001b[0;36m1\u001b[0m\u001b[0;34m]\u001b[0m\u001b[0;34m]\u001b[0m \u001b[0;34m+\u001b[0m \u001b[0;34m\" Run with full_output = 1 to get quantitative information.\"\u001b[0m\u001b[0;34m\u001b[0m\u001b[0;34m\u001b[0m\u001b[0m\n",
      "\u001b[0;31mValueError\u001b[0m: setting an array element with a sequence."
     ]
    }
   ],
   "source": [
    "args = (getInertialTensor,getInternalAngularMomentum)\n",
    "q = sp.integrate.odeint(eqOfMotion,[q_0,p_0],2)"
   ]
  },
  {
   "cell_type": "markdown",
   "metadata": {},
   "source": [
    "### Plotting the Standing Still Cat"
   ]
  },
  {
   "cell_type": "code",
   "execution_count": 21,
   "metadata": {},
   "outputs": [],
   "source": [
    "body_lines = [\n",
    "    (0, 1),\n",
    "    (1, 2),\n",
    "    (1, 3),\n",
    "    (1, 4),\n",
    "\n",
    "    (0, 5),\n",
    "    (5, 6),\n",
    "    (5, 7),\n",
    "    (5, 8),\n",
    "]\n"
   ]
  },
  {
   "cell_type": "code",
   "execution_count": 22,
   "metadata": {},
   "outputs": [
    {
     "data": {
      "image/png": "[encoded data removed]",
      "text/plain": [
       "<Figure size 576x576 with 1 Axes>"
      ]
     },
     "metadata": {
      "needs_background": "light"
     },
     "output_type": "display_data"
    }
   ],
   "source": [
    "fig = plt.figure(figsize = (8,8))\n",
    "ax = fig.add_subplot(111, projection = '3d')\n",
    "ani_lines = [ax.plot([], [], [], 'k-')[0] for _ in body_lines]\n",
    "for r in r_0:\n",
    "    ax.scatter3D(r[0], r[1], r[2])"
   ]
  },
  {
   "cell_type": "code",
   "execution_count": 18,
   "metadata": {},
   "outputs": [
    {
     "data": {
      "text/plain": [
       "array([[ 0.    , -0.1008, -0.2912],\n",
       "       [ 0.    , -1.1008, -0.2912],\n",
       "       [ 0.5   , -1.1008,  0.7088],\n",
       "       [-0.5   , -1.1008,  0.7088],\n",
       "       [ 0.    , -1.6008, -0.7912],\n",
       "       [ 0.    ,  0.8992, -0.2912],\n",
       "       [ 0.5   ,  0.8992,  0.7088],\n",
       "       [-0.5   ,  0.8992,  0.7088],\n",
       "       [ 0.    ,  1.0992, -0.4912]])"
      ]
     },
     "execution_count": 18,
     "metadata": {},
     "output_type": "execute_result"
    }
   ],
   "source": [
    "r_0"
   ]
  },
  {
   "cell_type": "code",
   "execution_count": 36,
   "metadata": {
    "ExecuteTime": {
     "end_time": "2019-09-18T15:37:09.518211Z",
     "start_time": "2019-09-18T15:37:09.511874Z"
    }
   },
   "outputs": [],
   "source": [
    "I = np.random.randn(3,3)"
   ]
  },
  {
   "cell_type": "code",
   "execution_count": 37,
   "metadata": {
    "ExecuteTime": {
     "end_time": "2019-09-18T15:37:09.873228Z",
     "start_time": "2019-09-18T15:37:09.865949Z"
    }
   },
   "outputs": [],
   "source": [
    "L = np.random.randn(3)"
   ]
  },
  {
   "cell_type": "code",
   "execution_count": 38,
   "metadata": {
    "ExecuteTime": {
     "end_time": "2019-09-18T15:37:10.207669Z",
     "start_time": "2019-09-18T15:37:10.200405Z"
    }
   },
   "outputs": [],
   "source": [
    "p = np.random.randn(3)"
   ]
  },
  {
   "cell_type": "code",
   "execution_count": 39,
   "metadata": {
    "ExecuteTime": {
     "end_time": "2019-09-18T15:37:10.587961Z",
     "start_time": "2019-09-18T15:37:10.578790Z"
    }
   },
   "outputs": [
    {
     "data": {
      "text/plain": [
       "array([-0.0334501 ,  9.23403083, -2.99245996])"
      ]
     },
     "execution_count": 39,
     "metadata": {},
     "output_type": "execute_result"
    }
   ],
   "source": [
    "np.cross(np.dot(I,p), (p-L))"
   ]
  },
  {
   "cell_type": "code",
   "execution_count": 40,
   "metadata": {
    "ExecuteTime": {
     "end_time": "2019-09-18T15:37:10.976536Z",
     "start_time": "2019-09-18T15:37:10.905103Z"
    }
   },
   "outputs": [
    {
     "data": {
      "text/plain": [
       "array([ 0.76293015, -7.09565119,  4.94402122])"
      ]
     },
     "execution_count": 40,
     "metadata": {},
     "output_type": "execute_result"
    }
   ],
   "source": [
    "np.cross(p,np.dot(I,p))-np.cross(p,(np.dot(I,L)))"
   ]
  },
  {
   "cell_type": "code",
   "execution_count": 42,
   "metadata": {
    "ExecuteTime": {
     "end_time": "2019-09-18T15:38:01.620612Z",
     "start_time": "2019-09-18T15:38:01.610296Z"
    }
   },
   "outputs": [
    {
     "data": {
      "text/plain": [
       "array([0., 0., 0.])"
      ]
     },
     "execution_count": 42,
     "metadata": {},
     "output_type": "execute_result"
    }
   ],
   "source": [
    "np.cross(p,p)"
   ]
  },
  {
   "cell_type": "code",
   "execution_count": null,
   "metadata": {},
   "outputs": [],
   "source": []
  }
 ],
 "metadata": {
  "kernelspec": {
   "display_name": "Python 3",
   "language": "python",
   "name": "python3"
  },
  "language_info": {
   "codemirror_mode": {
    "name": "ipython",
    "version": 3
   },
   "file_extension": ".py",
   "mimetype": "text/x-python",
   "name": "python",
   "nbconvert_exporter": "python",
   "pygments_lexer": "ipython3",
   "version": "3.7.4"
  }
 },
 "nbformat": 4,
 "nbformat_minor": 4
}
