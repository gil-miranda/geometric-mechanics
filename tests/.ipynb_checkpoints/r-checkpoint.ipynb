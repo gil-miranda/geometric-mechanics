{
 "cells": [
  {
   "cell_type": "code",
   "execution_count": 1,
   "metadata": {
    "ExecuteTime": {
     "end_time": "2019-09-18T14:02:11.221952Z",
     "start_time": "2019-09-18T14:02:06.938209Z"
    }
   },
   "outputs": [],
   "source": [
    "# Libraries for Scientific Computing\n",
    "import numpy as np\n",
    "import pyquaternion as pyQ\n",
    "\n",
    "# Libraries for graphics\n",
    "import matplotlib.pyplot as plt\n",
    "from mpl_toolkits.mplot3d.axes3d import Axes3D\n",
    "from matplotlib.animation import FuncAnimation\n",
    "from mpl_toolkits.mplot3d.art3d import juggle_axes"
   ]
  },
  {
   "cell_type": "markdown",
   "metadata": {},
   "source": [
    "### Mechanics"
   ]
  },
  {
   "cell_type": "code",
   "execution_count": 2,
   "metadata": {
    "ExecuteTime": {
     "end_time": "2019-09-18T14:02:11.307731Z",
     "start_time": "2019-09-18T14:02:11.226988Z"
    }
   },
   "outputs": [],
   "source": [
    "##### Inertial Tensor\n",
    "### Input:  r -> positions;\n",
    "###         masses -> masses from the body;\n",
    "### Output: I -> Matrix representing the Inertial Tensor\n",
    "##### Gil Miranda - last revision 15/09/2019\n",
    "\n",
    "def getInertialTensor(r, masses):\n",
    "    I = np.zeros((3,3))\n",
    "    for i in range(len(masses)):\n",
    "        I[0][0] += masses[i]*(r[i][1]**2 + r[i][2]**2)\n",
    "        I[1][1] += masses[i]*(r[i][0]**2 + r[i][2]**2)\n",
    "        I[2][2] += masses[i]*(r[i][0]**2 + r[i][1]**2)\n",
    "        \n",
    "        I[0][1] -= masses[i]*(r[i][0])*(r[i][1])\n",
    "        I[0][2] -= masses[i]*(r[i][0])*(r[i][2])\n",
    "        I[1][2] -= masses[i]*(r[i][1])*(r[i][2])\n",
    "    I[1][0] = I[0][1]\n",
    "    I[2][0] = I[0][2]\n",
    "    I[2][1] = I[1][2]\n",
    "    \n",
    "    return I\n",
    "\n",
    "## ---------------------------------------------------------------\n",
    "\n",
    "##### Internal Angular Momentum\n",
    "### Input:  Q -> ?;\n",
    "###         v -> ?;\n",
    "###         masses -> masses from the body;\n",
    "### Output: s -> ?\n",
    "##### Gil Miranda - last revision 15/09/2019\n",
    "\n",
    "def getInternalAngularMomentum(Q, v, masses):\n",
    "    s = np.zeros(3)\n",
    "    for (i,m) in enumerate(masses):\n",
    "        s = s + m*np.cross(Q[i], v[i])\n",
    "    return s\n",
    "\n",
    "## ---------------------------------------------------------------\n",
    "\n",
    "##### Center of Mass\n",
    "### Input:  r -> position vector;\n",
    "###         masses -> masses from the body;\n",
    "### Output: cm -> vector for center of mass of the system\n",
    "##### Gil Miranda - last revision 15/09/2019\n",
    "def CM(r, masses):\n",
    "    cm = np.zeros(3)\n",
    "    for i in range(len(r)):\n",
    "        cm[0] += masses[i] * r[i][0]\n",
    "        cm[1] += masses[i] * r[i][1]\n",
    "        cm[2] += masses[i] * r[i][2]\n",
    "    total_m = sum(masses)\n",
    "    cm *= (1/total_m)\n",
    "    return cm"
   ]
  },
  {
   "cell_type": "markdown",
   "metadata": {},
   "source": [
    "### Initial Values"
   ]
  },
  {
   "cell_type": "code",
   "execution_count": 5,
   "metadata": {
    "ExecuteTime": {
     "end_time": "2019-09-18T14:02:29.037340Z",
     "start_time": "2019-09-18T14:02:29.009915Z"
    }
   },
   "outputs": [],
   "source": [
    "masses = np.array([3, 2, 1, 1, 0.2, 2, 1, 1, 1.3])*50\n",
    "n_mass = len(masses)\n",
    "r_0 = [None]*n_mass\n",
    "\n",
    "r_0[0] = [0, 0, 0] # Center of the Body\n",
    "r_0[1] = [0, -1, 0] # Back of the Body\n",
    "r_0[2] = [0.5, -1, 1] # Back Paw 1\n",
    "r_0[3] = [-0.5, -1, 1] # Back Paw 2\n",
    "r_0[4] = [0, -1.5, -0.5] # Tails\n",
    "\n",
    "r_0[5] = [0, 1, 0] # Front Body\n",
    "r_0[6] = [0.5, 1, 1] # Front Paw 1\n",
    "r_0[7] = [-0.5, 1, 1] # Front Paw 2\n",
    "r_0[8] = [0, 1.2, -0.2] # Head\n",
    "\n",
    "r_0 = np.array(r_0)"
   ]
  },
  {
   "cell_type": "markdown",
   "metadata": {
    "ExecuteTime": {
     "end_time": "2019-09-18T14:03:12.772450Z",
     "start_time": "2019-09-18T14:03:12.765028Z"
    }
   },
   "source": [
    "#### Translation so we have $CM = (0,0,0)$"
   ]
  },
  {
   "cell_type": "code",
   "execution_count": 23,
   "metadata": {
    "ExecuteTime": {
     "end_time": "2019-09-18T14:57:03.996984Z",
     "start_time": "2019-09-18T14:57:03.988691Z"
    }
   },
   "outputs": [],
   "source": [
    "r_cm = CM(r_0, masses)\n",
    "for i in range(len(r_0)):\n",
    "    r_0[i] -= r_cm"
   ]
  },
  {
   "cell_type": "markdown",
   "metadata": {},
   "source": [
    "#### Motion"
   ]
  },
  {
   "cell_type": "code",
   "execution_count": 22,
   "metadata": {
    "ExecuteTime": {
     "end_time": "2019-09-18T14:56:26.510412Z",
     "start_time": "2019-09-18T14:56:26.478437Z"
    }
   },
   "outputs": [],
   "source": [
    "## Identity Rotation\n",
    "q_0 = pyQ.Quaternion(1,0,0,0)\n",
    "p_0 = [0,0,0]\n",
    "\n",
    "\n",
    "\n",
    "def particles(t):\n",
    "    a = np.zeros([len(masses), 3])\n",
    "    for i in range(len(masses)):\n",
    "        a[i] = r[i](t)\n",
    "    return a\n",
    "\n",
    "def eqOfMotion(x, t, I, L_0):\n",
    "    # Rotation\n",
    "    q = np.array(x[:4])\n",
    "    # Body Angular Momentum\n",
    "    p = np.array(x[4:])\n",
    "    \n",
    "    # Position\n",
    "    pos = particles(t)\n",
    "    \n",
    "    #Velocities\n",
    "    ep = 1e-7\n",
    "    v = (particles(t+ep) - particles(t-ep))/(2*ep)\n",
    "    \n",
    "    # Tensor of Inertia\n",
    "    I = getInertialTensor(pos, masses)\n",
    "    Iinv = np.linalg.inv(A)\n",
    "    \n",
    "    # Angular Momentum\n",
    "    L = getInternalAngularMomentum(pos, v, masses)\n",
    "    dp_dt = np.cross(np.dot(Iinv, p), (p-L))\n",
    "    \n",
    "    omega = np.dot(Iinv, (p-L))\n",
    "    omega = np.concatenate(([0.], omega))\n",
    "    dq_dt = 0.5 * q * omega\n",
    "    return [dq_dt[0], dq_dt[1], dq_dt[2], dq_dt[3]] + [dq_dt[0], dq_dt[1], dq_dt[2]]"
   ]
  },
  {
   "cell_type": "code",
   "execution_count": 21,
   "metadata": {
    "ExecuteTime": {
     "end_time": "2019-09-18T14:55:48.466010Z",
     "start_time": "2019-09-18T14:55:48.454521Z"
    }
   },
   "outputs": [
    {
     "data": {
      "text/plain": [
       "array([[0., 0., 0., 0.],\n",
       "       [0., 0., 0., 0.],\n",
       "       [0., 0., 0., 0.],\n",
       "       [0., 0., 0., 0.],\n",
       "       [0., 0., 0., 0.],\n",
       "       [0., 0., 0., 0.],\n",
       "       [0., 0., 0., 0.],\n",
       "       [0., 0., 0., 0.],\n",
       "       [0., 0., 0., 0.]])"
      ]
     },
     "execution_count": 21,
     "metadata": {},
     "output_type": "execute_result"
    }
   ],
   "source": [
    "np.zeros([9,4])"
   ]
  },
  {
   "cell_type": "markdown",
   "metadata": {},
   "source": [
    "### Plotting the Standing Still Cat"
   ]
  },
  {
   "cell_type": "code",
   "execution_count": 46,
   "metadata": {},
   "outputs": [
    {
     "data": {
      "image/png": "[encoded data removed]",
      "text/plain": [
       "<Figure size 576x576 with 1 Axes>"
      ]
     },
     "metadata": {
      "needs_background": "light"
     },
     "output_type": "display_data"
    }
   ],
   "source": [
    "fig = plt.figure(figsize = (8,8))\n",
    "ax = fig.add_subplot(111, projection = '3d')\n",
    "for r in r_0:\n",
    "    ax.scatter3D(r[0], r_0[1], r_0[2])"
   ]
  },
  {
   "cell_type": "code",
   "execution_count": 36,
   "metadata": {
    "ExecuteTime": {
     "end_time": "2019-09-18T15:37:09.518211Z",
     "start_time": "2019-09-18T15:37:09.511874Z"
    }
   },
   "outputs": [],
   "source": [
    "I = np.random.randn(3,3)"
   ]
  },
  {
   "cell_type": "code",
   "execution_count": 37,
   "metadata": {
    "ExecuteTime": {
     "end_time": "2019-09-18T15:37:09.873228Z",
     "start_time": "2019-09-18T15:37:09.865949Z"
    }
   },
   "outputs": [],
   "source": [
    "L = np.random.randn(3)"
   ]
  },
  {
   "cell_type": "code",
   "execution_count": 38,
   "metadata": {
    "ExecuteTime": {
     "end_time": "2019-09-18T15:37:10.207669Z",
     "start_time": "2019-09-18T15:37:10.200405Z"
    }
   },
   "outputs": [],
   "source": [
    "p = np.random.randn(3)"
   ]
  },
  {
   "cell_type": "code",
   "execution_count": 39,
   "metadata": {
    "ExecuteTime": {
     "end_time": "2019-09-18T15:37:10.587961Z",
     "start_time": "2019-09-18T15:37:10.578790Z"
    }
   },
   "outputs": [
    {
     "data": {
      "text/plain": [
       "array([-0.0334501 ,  9.23403083, -2.99245996])"
      ]
     },
     "execution_count": 39,
     "metadata": {},
     "output_type": "execute_result"
    }
   ],
   "source": [
    "np.cross(np.dot(I,p), (p-L))"
   ]
  },
  {
   "cell_type": "code",
   "execution_count": 40,
   "metadata": {
    "ExecuteTime": {
     "end_time": "2019-09-18T15:37:10.976536Z",
     "start_time": "2019-09-18T15:37:10.905103Z"
    }
   },
   "outputs": [
    {
     "data": {
      "text/plain": [
       "array([ 0.76293015, -7.09565119,  4.94402122])"
      ]
     },
     "execution_count": 40,
     "metadata": {},
     "output_type": "execute_result"
    }
   ],
   "source": [
    "np.cross(p,np.dot(I,p))-np.cross(p,(np.dot(I,L)))"
   ]
  },
  {
   "cell_type": "code",
   "execution_count": 42,
   "metadata": {
    "ExecuteTime": {
     "end_time": "2019-09-18T15:38:01.620612Z",
     "start_time": "2019-09-18T15:38:01.610296Z"
    }
   },
   "outputs": [
    {
     "data": {
      "text/plain": [
       "array([0., 0., 0.])"
      ]
     },
     "execution_count": 42,
     "metadata": {},
     "output_type": "execute_result"
    }
   ],
   "source": [
    "np.cross(p,p)"
   ]
  },
  {
   "cell_type": "code",
   "execution_count": null,
   "metadata": {},
   "outputs": [],
   "source": []
  }
 ],
 "metadata": {
  "kernelspec": {
   "display_name": "Python 3",
   "language": "python",
   "name": "python3"
  },
  "language_info": {
   "codemirror_mode": {
    "name": "ipython",
    "version": 3
   },
   "file_extension": ".py",
   "mimetype": "text/x-python",
   "name": "python",
   "nbconvert_exporter": "python",
   "pygments_lexer": "ipython3",
   "version": "3.7.3"
  }
 },
 "nbformat": 4,
 "nbformat_minor": 2
}
